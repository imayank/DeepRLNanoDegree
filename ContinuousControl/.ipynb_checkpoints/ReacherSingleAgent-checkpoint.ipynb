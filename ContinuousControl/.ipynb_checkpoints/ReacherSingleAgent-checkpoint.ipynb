{
 "cells": [
  {
   "cell_type": "code",
   "execution_count": 2,
   "id": "0030ffb1",
   "metadata": {},
   "outputs": [],
   "source": [
    "### Make ncessary imports\n",
    "from agents import DDPGAgent\n",
    "from constants import *\n",
    "from collections import deque\n",
    "import numpy as np\n",
    "from unityagents import UnityEnvironment"
   ]
  },
  {
   "cell_type": "code",
   "execution_count": 3,
   "id": "bc1a5517",
   "metadata": {},
   "outputs": [],
   "source": [
    "### autoreloading extension\n",
    "%load_ext autoreload\n",
    "%autoreload 2"
   ]
  },
  {
   "cell_type": "code",
   "execution_count": 4,
   "id": "2118b011",
   "metadata": {},
   "outputs": [
    {
     "name": "stderr",
     "output_type": "stream",
     "text": [
      "INFO:unityagents:\n",
      "'Academy' started successfully!\n",
      "Unity Academy name: Academy\n",
      "        Number of Brains: 1\n",
      "        Number of External Brains : 1\n",
      "        Lesson number : 0\n",
      "        Reset Parameters :\n",
      "\t\tgoal_size -> 5.0\n",
      "\t\tgoal_speed -> 1.0\n",
      "Unity brain name: ReacherBrain\n",
      "        Number of Visual Observations (per agent): 0\n",
      "        Vector Observation space type: continuous\n",
      "        Vector Observation space size (per agent): 33\n",
      "        Number of stacked Vector Observation: 1\n",
      "        Vector Action space type: continuous\n",
      "        Vector Action space size (per agent): 4\n",
      "        Vector Action descriptions: , , , \n"
     ]
    }
   ],
   "source": [
    "## Initializing the Reacher Environment\n",
    "## Replace the file_name with the path where the Reacher environment is \n",
    "## downloaded.\n",
    "env = UnityEnvironment(file_name=\"./Reacher_SingleAgent/Reacher.exe\")\n",
    "brain_name = env.brain_names[0]\n",
    "brain = env.brains[brain_name]"
   ]
  },
  {
   "cell_type": "code",
   "execution_count": 5,
   "id": "1cb5f791",
   "metadata": {},
   "outputs": [],
   "source": [
    "## main function that runs the algorithm\n",
    "def ddpg(num_episodes=5000):\n",
    "    \"\"\"Function that initializes an agent and runs the algorithm\n",
    "    to train the agent.\n",
    "    Input:\n",
    "           num_episodes: maximum number of episodes till the training lasts.\n",
    "                         Training stops early once the agent's average score\n",
    "                         is greater than 30\n",
    "    Outputs: Returns the trained agent and scores received by agent.\n",
    "             score for an agent is total reward received in an episode.\n",
    "    \"\"\"\n",
    "    \n",
    "    ## Initialize the agent\n",
    "    agent = DDPGAgent(state_size=33, action_size=4, seed=23)\n",
    "    ### Deque to store the socres from the latest 100 episodes\n",
    "    scores_deque = deque(maxlen=100)\n",
    "    ### list to store score from each episode\n",
    "    scores=[]\n",
    "    ### Start the training\n",
    "    for i_episode in range(1,num_episodes+1):\n",
    "        # Reset the environment\n",
    "        env_info = env.reset(train_mode=True)[brain_name]\n",
    "        # start state\n",
    "        state = env_info.vector_observations.squeeze()\n",
    "        # Reset the noise process\n",
    "        agent.noise_process.reset()\n",
    "        score = 0\n",
    "        # Loop untill episode ends\n",
    "        while True:\n",
    "            rewards = []     # list to store the rewards for multistep returns\n",
    "            init_state = state    # initial state of multistep returns\n",
    "            init_action = []    # for storing the initial action in multistep returns \n",
    "            # use 5 step returns \n",
    "            for _ in range(5):\n",
    "                # To help with explorations, take random actions for first 10 episodes\n",
    "                if(i_episode <= 10):\n",
    "                    action = agent.get_random_action()\n",
    "                else: # after 10 episodes ask actor for the action\n",
    "                    action = agent.act(state)\n",
    "                #store first action of 5 step returns\n",
    "                if not len(init_action):\n",
    "                    init_action = action\n",
    "                # perform the action\n",
    "                env_info = env.step(action)[brain_name]\n",
    "                next_state = env_info.vector_observations.squeeze()\n",
    "                reward = env_info.rewards[0]\n",
    "                done = env_info.local_done[0]\n",
    "                #store the reward of 5 step returns\n",
    "                rewards.append(reward)\n",
    "                # add score\n",
    "                score+=reward\n",
    "                ## set the current state\n",
    "                state = next_state\n",
    "                if done:\n",
    "                    break\n",
    "            ## Get initial priority for the 5 step interation\n",
    "            pr = agent.get_initial_priority(init_state,init_action,rewards,next_state,done)\n",
    "            ## store the interaction in buffer with obtained priority\n",
    "            agent.buffer.add(init_state,init_action,rewards,next_state,done,pr)\n",
    "            del rewards\n",
    "            agent.t = (agent.t + 1) % UPDATE_FREQ\n",
    "            # Let the agent learn from experiences, waits untill \n",
    "            ## buffer has certain number of experiences to choose from\n",
    "            if len(agent.buffer) >= UPDATE_AFTER:\n",
    "                agent.learn()\n",
    "            ## Break if episode is over\n",
    "            if done:\n",
    "                break\n",
    "        ## store the score\n",
    "        scores.append(score)\n",
    "        scores_deque.append(score)\n",
    "        ## print the average score of latest 100 episodes\n",
    "        print('\\rEpisode {}\\tAverage Score: {:.2f}'.format(i_episode, np.mean(scores_deque)), end=\"\")\n",
    "        if i_episode % 100 == 0:\n",
    "            print('\\rEpisode {}\\tAverage Score: {:.2f}'.format(i_episode, np.mean(scores_deque)))\n",
    "            if np.mean(scores_deque) > 30: ## end training if the environment is solved\n",
    "                break\n",
    "    ## return trained agent and score\n",
    "    return scores, agent"
   ]
  },
  {
   "cell_type": "code",
   "execution_count": 6,
   "id": "66a70b09",
   "metadata": {
    "scrolled": false
   },
   "outputs": [
    {
     "name": "stdout",
     "output_type": "stream",
     "text": [
      "Agent Initialized\n",
      "Episode 100\tAverage Score: 1.40\n",
      "Episode 200\tAverage Score: 8.12\n",
      "Episode 300\tAverage Score: 17.52\n",
      "Episode 400\tAverage Score: 19.80\n",
      "Episode 500\tAverage Score: 21.31\n",
      "Episode 600\tAverage Score: 23.88\n",
      "Episode 700\tAverage Score: 25.89\n",
      "Episode 800\tAverage Score: 25.64\n",
      "Episode 886\tAverage Score: 24.90"
     ]
    },
    {
     "name": "stderr",
     "output_type": "stream",
     "text": [
      "/home/workspace/MultiStepPriority/buffers.py:123: RuntimeWarning: divide by zero encountered in double_scalars\n",
      "  max_w = (len(self.memory) * self.segment_tree.get_minimum()) ** (-beta)\n"
     ]
    },
    {
     "name": "stdout",
     "output_type": "stream",
     "text": [
      "Episode 900\tAverage Score: 25.50\n",
      "Episode 1000\tAverage Score: 28.56\n",
      "Episode 1100\tAverage Score: 29.84\n",
      "Episode 1200\tAverage Score: 29.36\n",
      "Episode 1300\tAverage Score: 30.53\n"
     ]
    }
   ],
   "source": [
    "## Call the function to train the agent.\n",
    "scores_ret, agent = ddpg()"
   ]
  },
  {
   "cell_type": "code",
   "execution_count": 7,
   "id": "52e0d287",
   "metadata": {},
   "outputs": [],
   "source": [
    "### Saving the weights of trained agent\n",
    "### Change the names of the file if required\n",
    "torch.save(agent.actor_local.state_dict(), 'checkpoint_actor.pth')\n",
    "torch.save(agent.QNetwork_local.state_dict(), 'checkpoint_critic.pth')"
   ]
  },
  {
   "cell_type": "code",
   "execution_count": 8,
   "id": "cb6f30f7",
   "metadata": {},
   "outputs": [],
   "source": [
    "import matplotlib.pyplot as plt"
   ]
  },
  {
   "cell_type": "code",
   "execution_count": 17,
   "id": "c5530417",
   "metadata": {},
   "outputs": [
    {
     "data": {
      "text/plain": [
       "Text(0,0.5,'Score(Total Reward received in an episode)')"
      ]
     },
     "execution_count": 17,
     "metadata": {},
     "output_type": "execute_result"
    },
    {
     "data": {
      "image/png": "[encoded data removed]",
      "text/plain": [
       "<matplotlib.figure.Figure at 0x7f9a1d762a90>"
      ]
     },
     "metadata": {
      "needs_background": "light"
     },
     "output_type": "display_data"
    }
   ],
   "source": [
    "## plotting score obtained per episode\n",
    "plt.plot(scores_ret)\n",
    "plt.axhline(30,color='r')\n",
    "plt.xlabel('Episode Number')\n",
    "plt.ylabel('Score(Total Reward received in an episode)')"
   ]
  },
  {
   "cell_type": "code",
   "execution_count": 18,
   "id": "0ce52a1f",
   "metadata": {},
   "outputs": [
    {
     "name": "stdout",
     "output_type": "stream",
     "text": [
      "Agent Initialized\n"
     ]
    }
   ],
   "source": [
    "### Initialize the unity environment(if not already) and run this and \n",
    "###following cell to watch the learned agent play. Change the file name \n",
    "### where the weights for actors is loaded to the one you saved, \n",
    "### otherwise run as it is.\n",
    "\n",
    "## Initialize the agent\n",
    "agent = DDPGAgent(state_size=33, action_size=4, seed=23)"
   ]
  },
  {
   "cell_type": "code",
   "execution_count": null,
   "id": "6f164368",
   "metadata": {},
   "outputs": [
    {
     "name": "stdout",
     "output_type": "stream",
     "text": [
      "Episode 0\tScore: 37.62\n",
      "Episode 1\tScore: 30.46\n",
      "Episode 2\tScore: 32.09\n",
      "Episode 3\tScore: 27.94\n",
      "Episode 4\tScore: 34.60\n",
      "Episode 5\tScore: 26.18\n",
      "Episode 6\tScore: 33.31\n",
      "Episode 7\tScore: 26.64\n",
      "Episode 8\tScore: 32.07\n",
      "Step 997"
     ]
    }
   ],
   "source": [
    "## Loading saved weights\n",
    "agent.actor_local.load_state_dict(torch.load('checkpoint_actor.pth', map_location='cpu'))\n",
    "agent.QNetwork_local.load_state_dict(torch.load('checkpoint_critic.pth',map_location='cpu'))\n",
    "\n",
    "\n",
    "scores = []                          # initialize the score (for each agent)\n",
    "for i_episode in range(10):\n",
    "    env_info = env.reset(train_mode=False)[brain_name]\n",
    "    states = env_info.vector_observations\n",
    "    score = 0\n",
    "    for t in range(1000):\n",
    "        print('\\rStep {}'.format(t),end='')\n",
    "        actions = agent.act(states, add_noise=False) # select an action (for each agent)\n",
    "        actions = np.clip(actions, -1, 1)                  # all actions between -1 and 1\n",
    "        env_info = env.step(actions.squeeze(0).cpu().numpy())[brain_name]           # send all actions to tne environment\n",
    "        next_states = env_info.vector_observations         # get next state (for each agent)\n",
    "        rewards = env_info.rewards                         # get reward (for each agent)\n",
    "        dones = env_info.local_done                        # see if episode finished\n",
    "        score += env_info.rewards[0]                         # update the score (for each agent)\n",
    "        states = next_states                               # roll over states to next time step\n",
    "        if np.any(dones):                                  # exit loop if episode finished\n",
    "            break\n",
    "    print('\\rEpisode {}\\tScore: {:.2f}'.format(i_episode, score))\n",
    "    scores.append(score)\n",
    "print('Total score (averaged over agents) this episode: {}'.format(np.mean(scores)))"
   ]
  },
  {
   "cell_type": "code",
   "execution_count": 19,
   "id": "99c4a6e1",
   "metadata": {},
   "outputs": [],
   "source": [
    "env.close() ##close the environment once done"
   ]
  },
  {
   "cell_type": "code",
   "execution_count": null,
   "id": "d61ed081",
   "metadata": {},
   "outputs": [],
   "source": []
  }
 ],
 "metadata": {
  "kernelspec": {
   "display_name": "Python 3",
   "language": "python",
   "name": "python3"
  },
  "language_info": {
   "codemirror_mode": {
    "name": "ipython",
    "version": 3
   },
   "file_extension": ".py",
   "mimetype": "text/x-python",
   "name": "python",
   "nbconvert_exporter": "python",
   "pygments_lexer": "ipython3",
   "version": "3.6.13"
  }
 },
 "nbformat": 4,
 "nbformat_minor": 5
}
