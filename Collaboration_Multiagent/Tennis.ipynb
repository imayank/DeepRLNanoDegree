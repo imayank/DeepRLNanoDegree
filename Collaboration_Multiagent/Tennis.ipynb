{
 "cells": [
  {
   "cell_type": "code",
   "execution_count": 2,
   "id": "6ab9435b",
   "metadata": {},
   "outputs": [],
   "source": [
    "# Importing Necessary scripts and packages\n",
    "from agents import MADDPG\n",
    "from constants import *\n",
    "from collections import deque\n",
    "import numpy as np\n",
    "from unityagents import UnityEnvironment"
   ]
  },
  {
   "cell_type": "code",
   "execution_count": 3,
   "id": "d0797caf",
   "metadata": {},
   "outputs": [],
   "source": [
    "## Extension to auto-reload scripts if edited\n",
    "%load_ext autoreload\n",
    "%autoreload 2"
   ]
  },
  {
   "cell_type": "code",
   "execution_count": 4,
   "id": "14da5176",
   "metadata": {},
   "outputs": [
    {
     "name": "stderr",
     "output_type": "stream",
     "text": [
      "INFO:unityagents:\n",
      "'Academy' started successfully!\n",
      "Unity Academy name: Academy\n",
      "        Number of Brains: 1\n",
      "        Number of External Brains : 1\n",
      "        Lesson number : 0\n",
      "        Reset Parameters :\n",
      "\t\t\n",
      "Unity brain name: TennisBrain\n",
      "        Number of Visual Observations (per agent): 0\n",
      "        Vector Observation space type: continuous\n",
      "        Vector Observation space size (per agent): 8\n",
      "        Number of stacked Vector Observation: 3\n",
      "        Vector Action space type: continuous\n",
      "        Vector Action space size (per agent): 2\n",
      "        Vector Action descriptions: , \n"
     ]
    }
   ],
   "source": [
    "## Initializing the Tennis Environment\n",
    "## Replace the file_name with the path where the Tennis environment is \n",
    "## downloaded.\n",
    "env = UnityEnvironment(file_name=\"./Tennis_Windows_x86_64/Tennis.exe\")\n",
    "brain_name = env.brain_names[0]\n",
    "brain = env.brains[brain_name]"
   ]
  },
  {
   "cell_type": "code",
   "execution_count": 5,
   "id": "f74620b4",
   "metadata": {},
   "outputs": [],
   "source": [
    "## Resetting environment to the start and saving some information\n",
    "env_info = env.reset(train_mode=True)[brain_name]\n",
    "num_agents = len(env_info.agents)\n",
    "action_size = brain.vector_action_space_size"
   ]
  },
  {
   "cell_type": "code",
   "execution_count": 8,
   "id": "29f747ff",
   "metadata": {},
   "outputs": [],
   "source": [
    "## main function that runs the algorithm\n",
    "def maddpg(num_episodes=5000):\n",
    "    \"\"\"Function that initializes an agent and runs the algorithm\n",
    "    to train the agent.\n",
    "    Input:\n",
    "           num_episodes: maximum number of episodes till the training lasts.\n",
    "                         Training stops early once the agents average score\n",
    "                         is greater than 0.7\n",
    "    Outputs: Returns the trained agent and scores received by each agent.\n",
    "             score for a agent is total reward received in an episode.\n",
    "    \"\"\"\n",
    "    ### initialize the agent\n",
    "    ### NOTE: Do not change the priority variable to True, it does not work\n",
    "    ### at present, will be implemented in future work.\n",
    "    agent = MADDPG(state_size=24, action_size=2, seeds=[13,51,125], priority=False)\n",
    "    ### Deque to store the socres from the latest 100 episodes\n",
    "    scores_deque = deque(maxlen=100)\n",
    "    ### list to store score from each episode\n",
    "    scores = []\n",
    "    ### Starting training\n",
    "    for i_episode in range(1,num_episodes+1):\n",
    "        ## Reset the environment to start\n",
    "        env_info = env.reset(train_mode=True)[brain_name]\n",
    "        ## Initial state\n",
    "        states = env_info.vector_observations\n",
    "        ## array to store score i.e. total reward received by each agent in a episode\n",
    "        score= np.zeros(num_agents)\n",
    "        \n",
    "        ## Loop until episode ends\n",
    "        while True:\n",
    "            ## Choose random actions for first 500 episodes, for exploration\n",
    "            if(i_episode <= 500):\n",
    "                actions = agent.get_random_action()\n",
    "            else: ## after 500 episodes ask agent for the correct action\n",
    "                actions = agent.act(np.array(states))\n",
    "            \n",
    "            ## Take the action\n",
    "            env_info = env.step(actions)[brain_name]\n",
    "            next_states = env_info.vector_observations\n",
    "            rewards = env_info.rewards\n",
    "            dones = env_info.local_done\n",
    "            score+=rewards ## Add the reward received\n",
    "            ## add the current interaction to Replay Buffer\n",
    "            agent.buffer.add(states,actions,rewards,next_states,dones)\n",
    "            ## setting the currecnt state\n",
    "            states = next_states\n",
    "            \n",
    "            ## Let the agent learn from experiences, waits untill \n",
    "            ## buffer has certain number of experiences to choose from\n",
    "            if len(agent.buffer) >= UPDATE_AFTER:\n",
    "                agent.learn()\n",
    "            ## Break if episode is over\n",
    "            if np.any(dones):\n",
    "                break\n",
    "        ## store the score\n",
    "        scores.append(score)\n",
    "        scores_deque.append(score)\n",
    "        ## print max score at the end of episode\n",
    "        print('\\rEpisode {}\\t Max Score: {:.2f}'.format(i_episode, np.max(score)), end=\"\")\n",
    "        ## print average score every 100 episodes\n",
    "        if i_episode % 100 == 0: \n",
    "            avg_score = np.mean(np.max(scores_deque,axis=1))\n",
    "            print('\\rEpisode {}\\tAverage Score: {:.2f}'.format(i_episode, avg_score))\n",
    "            if(avg_score > 0.7): ## End training if avg_score is sufficient\n",
    "                break\n",
    "    ## return the scores and trained agent            \n",
    "    return scores, agent"
   ]
  },
  {
   "cell_type": "code",
   "execution_count": 16,
   "id": "cfb1676a",
   "metadata": {
    "scrolled": true
   },
   "outputs": [
    {
     "name": "stdout",
     "output_type": "stream",
     "text": [
      "Agent Initialized\n",
      "Episode 100\tAverage Score: 0.02\n",
      "Episode 200\tAverage Score: 0.02\n",
      "Episode 300\tAverage Score: 0.02\n",
      "Episode 400\tAverage Score: 0.01\n",
      "Episode 500\tAverage Score: 0.02\n",
      "Episode 600\tAverage Score: 0.02\n",
      "Episode 700\tAverage Score: 0.06\n",
      "Episode 800\tAverage Score: 0.07\n",
      "Episode 900\tAverage Score: 0.10\n",
      "Episode 1000\tAverage Score: 0.12\n",
      "Episode 1100\tAverage Score: 0.13\n",
      "Episode 1200\tAverage Score: 0.16\n",
      "Episode 1300\tAverage Score: 0.20\n",
      "Episode 1400\tAverage Score: 0.27\n",
      "Episode 1500\tAverage Score: 0.44\n",
      "Episode 1600\tAverage Score: 0.92\n"
     ]
    }
   ],
   "source": [
    "## Call the function to train the agent.\n",
    "scores_ret, agent = maddpg()"
   ]
  },
  {
   "cell_type": "code",
   "execution_count": 17,
   "id": "b1672271",
   "metadata": {},
   "outputs": [],
   "source": [
    "### Saving the weights of the actors\n",
    "### Change the names of the file if required\n",
    "torch.save(agent.actors[0].local.state_dict(), 'checkpoint_actor_2.pth')\n",
    "torch.save(agent.actors[1].local.state_dict(), 'checkpoint_actor_3.pth')"
   ]
  },
  {
   "cell_type": "code",
   "execution_count": 18,
   "id": "9a05038a",
   "metadata": {},
   "outputs": [],
   "source": [
    "import matplotlib.pyplot as plt"
   ]
  },
  {
   "cell_type": "code",
   "execution_count": 24,
   "id": "18d95baa",
   "metadata": {},
   "outputs": [
    {
     "data": {
      "text/plain": [
       "[<matplotlib.lines.Line2D at 0x7fcb0dfe4780>]"
      ]
     },
     "execution_count": 24,
     "metadata": {},
     "output_type": "execute_result"
    },
    {
     "data": {
      "image/png": "[encoded data removed]",
      "text/plain": [
       "<matplotlib.figure.Figure at 0x7fcade4094e0>"
      ]
     },
     "metadata": {
      "needs_background": "light"
     },
     "output_type": "display_data"
    }
   ],
   "source": [
    "## plotting the max score \n",
    "avg_scores = np.max(scores_arr,axis=1)\n",
    "plt.xlabel(\"Episode\")\n",
    "plt.ylabel(\"Max score per episode\")\n",
    "plt.plot(avg_scores)"
   ]
  },
  {
   "cell_type": "code",
   "execution_count": 22,
   "id": "81f9bc7d",
   "metadata": {
    "scrolled": true
   },
   "outputs": [
    {
     "name": "stdout",
     "output_type": "stream",
     "text": [
      "Agent Initialized\n",
      "loaded\n",
      "loaded\n",
      "1\n",
      "Score (max over agents) from episode 1: 2.600000038743019\n",
      "2\n",
      "Score (max over agents) from episode 2: 2.600000038743019\n",
      "3\n",
      "Score (max over agents) from episode 3: 2.7000000402331352\n",
      "4\n",
      "Score (max over agents) from episode 4: 2.600000038743019\n",
      "5\n",
      "Score (max over agents) from episode 5: 2.7000000402331352\n"
     ]
    }
   ],
   "source": [
    "### Initialize the unity environment(if not already) and run this cell\n",
    "### to watch the learned agent play. Change the file name where the weights\n",
    "### for actors is loaded to the one you saved, otherwise run as it is.\n",
    "\n",
    "## Initialize the agent\n",
    "agent = MADDPG(state_size=24, action_size=2, seeds=[13,51,125], priority=False)\n",
    "## Loading saved weights for actors\n",
    "agent.actors[0].local.load_state_dict(torch.load('checkpoint_actor_1.pth', map_location='cpu'))\n",
    "print('loaded')\n",
    "agent.actors[1].local.load_state_dict(torch.load('checkpoint_actor_2.pth', map_location='cpu'))\n",
    "print('loaded')\n",
    "## play for 5 episodes\n",
    "for i in range(1, 6):                                      # play game for 5 episodes\n",
    "    env_info = env.reset(train_mode=False)[brain_name]     # reset the environment    \n",
    "    states = env_info.vector_observations                  # get the current state (for each agent)\n",
    "    scores = np.zeros(2)                          # initialize the score (for each agent)\n",
    "    t=0\n",
    "    print(i)\n",
    "    while True:\n",
    "        actions = agent.act(np.array(states),add_noise=False) # select an action (for each agent)\n",
    "        #actions = np.clip(actions, -1, 1)                  # all actions between -1 and 1\n",
    "        env_info = env.step(actions)[brain_name]           # send all actions to tne environment\n",
    "        next_states = env_info.vector_observations         # get next state (for each agent)\n",
    "        rewards = env_info.rewards                         # get reward (for each agent)\n",
    "        dones = env_info.local_done                        # see if episode finished\n",
    "        scores += env_info.rewards                         # update the score (for each agent)\n",
    "        states = next_states                               # roll over states to next time step\n",
    "        print(\"\\rStep: {}\".format(t),end=\"\")\n",
    "        t+=1\n",
    "        if np.any(dones):                                  # exit loop if episode finished\n",
    "            break\n",
    "    print('\\rScore (max over agents) from episode {}: {}'.format(i, np.max(scores)))"
   ]
  },
  {
   "cell_type": "code",
   "execution_count": 6,
   "id": "5a619d60",
   "metadata": {},
   "outputs": [],
   "source": [
    "env.close() ## close the environment once done"
   ]
  },
  {
   "cell_type": "code",
   "execution_count": null,
   "id": "9d3b3b1b",
   "metadata": {},
   "outputs": [],
   "source": []
  }
 ],
 "metadata": {
  "kernelspec": {
   "display_name": "Python 3",
   "language": "python",
   "name": "python3"
  },
  "language_info": {
   "codemirror_mode": {
    "name": "ipython",
    "version": 3
   },
   "file_extension": ".py",
   "mimetype": "text/x-python",
   "name": "python",
   "nbconvert_exporter": "python",
   "pygments_lexer": "ipython3",
   "version": "3.6.13"
  }
 },
 "nbformat": 4,
 "nbformat_minor": 5
}
